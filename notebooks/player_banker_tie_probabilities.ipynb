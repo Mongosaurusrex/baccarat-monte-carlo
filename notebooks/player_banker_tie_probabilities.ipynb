{
 "cells": [
  {
   "cell_type": "markdown",
   "id": "0d219792-0f48-4769-8777-2656c06ad15a",
   "metadata": {},
   "source": [
    "# General probabilities of the player, banker and tie"
   ]
  },
  {
   "cell_type": "markdown",
   "id": "d50a8d1d-a408-4061-b6dd-af80b4ded866",
   "metadata": {},
   "source": [
    "## Setup"
   ]
  },
  {
   "cell_type": "markdown",
   "id": "571bccfb-3500-4992-8d1d-06d2698dea21",
   "metadata": {},
   "source": [
    "Here we will run a million simulations of the game of baccarat and analyze the probabilities of the following:\n",
    "- Player wins\n",
    "- Banker wins\n",
    "- Tie"
   ]
  },
  {
   "cell_type": "code",
   "execution_count": 1,
   "id": "3e8cc17b-eca3-4cd5-9ce3-cf9477525c60",
   "metadata": {},
   "outputs": [
    {
     "name": "stdout",
     "output_type": "stream",
     "text": [
      "Simulation finished\n"
     ]
    },
    {
     "data": {
      "text/html": [
       "<div>\n",
       "<style scoped>\n",
       "    .dataframe tbody tr th:only-of-type {\n",
       "        vertical-align: middle;\n",
       "    }\n",
       "\n",
       "    .dataframe tbody tr th {\n",
       "        vertical-align: top;\n",
       "    }\n",
       "\n",
       "    .dataframe thead th {\n",
       "        text-align: right;\n",
       "    }\n",
       "</style>\n",
       "<table border=\"1\" class=\"dataframe\">\n",
       "  <thead>\n",
       "    <tr style=\"text-align: right;\">\n",
       "      <th></th>\n",
       "      <th>bet_choice</th>\n",
       "      <th>winner</th>\n",
       "      <th>funds</th>\n",
       "      <th>bank_hand</th>\n",
       "      <th>player_hand</th>\n",
       "      <th>went_bankrupt</th>\n",
       "    </tr>\n",
       "  </thead>\n",
       "  <tbody>\n",
       "    <tr>\n",
       "      <th>534566</th>\n",
       "      <td>Player</td>\n",
       "      <td>Banker</td>\n",
       "      <td>inf</td>\n",
       "      <td>[4 clubs, 9 spades]</td>\n",
       "      <td>[2 clubs, J spades, K diamonds]</td>\n",
       "      <td>False</td>\n",
       "    </tr>\n",
       "    <tr>\n",
       "      <th>912040</th>\n",
       "      <td>Player</td>\n",
       "      <td>Banker</td>\n",
       "      <td>inf</td>\n",
       "      <td>[9 hearts, 10 diamonds]</td>\n",
       "      <td>[10 spades, J clubs]</td>\n",
       "      <td>False</td>\n",
       "    </tr>\n",
       "    <tr>\n",
       "      <th>43946</th>\n",
       "      <td>Player</td>\n",
       "      <td>Banker</td>\n",
       "      <td>inf</td>\n",
       "      <td>[7 spades, 8 hearts]</td>\n",
       "      <td>[3 spades, 8 spades, 10 clubs]</td>\n",
       "      <td>False</td>\n",
       "    </tr>\n",
       "    <tr>\n",
       "      <th>981993</th>\n",
       "      <td>Player</td>\n",
       "      <td>Banker</td>\n",
       "      <td>inf</td>\n",
       "      <td>[4 diamonds, Q clubs, 4 spades]</td>\n",
       "      <td>[3 diamonds, 4 spades]</td>\n",
       "      <td>False</td>\n",
       "    </tr>\n",
       "    <tr>\n",
       "      <th>445332</th>\n",
       "      <td>Player</td>\n",
       "      <td>Player</td>\n",
       "      <td>inf</td>\n",
       "      <td>[5 spades, 6 clubs, 10 clubs]</td>\n",
       "      <td>[6 diamonds, J spades]</td>\n",
       "      <td>False</td>\n",
       "    </tr>\n",
       "  </tbody>\n",
       "</table>\n",
       "</div>"
      ],
      "text/plain": [
       "       bet_choice  winner  funds                        bank_hand  \\\n",
       "534566     Player  Banker    inf              [4 clubs, 9 spades]   \n",
       "912040     Player  Banker    inf          [9 hearts, 10 diamonds]   \n",
       "43946      Player  Banker    inf             [7 spades, 8 hearts]   \n",
       "981993     Player  Banker    inf  [4 diamonds, Q clubs, 4 spades]   \n",
       "445332     Player  Player    inf    [5 spades, 6 clubs, 10 clubs]   \n",
       "\n",
       "                            player_hand  went_bankrupt  \n",
       "534566  [2 clubs, J spades, K diamonds]          False  \n",
       "912040             [10 spades, J clubs]          False  \n",
       "43946    [3 spades, 8 spades, 10 clubs]          False  \n",
       "981993           [3 diamonds, 4 spades]          False  \n",
       "445332           [6 diamonds, J spades]          False  "
      ]
     },
     "execution_count": 1,
     "metadata": {},
     "output_type": "execute_result"
    }
   ],
   "source": [
    "import sys\n",
    "import os\n",
    "\n",
    "project_root = os.path.abspath(os.path.join(os.getcwd(), \"..\"))\n",
    "\n",
    "if project_root not in sys.path:\n",
    "    sys.path.append(project_root)\n",
    "\n",
    "import pandas as pd\n",
    "import numpy as np\n",
    "import matplotlib.pyplot as plt\n",
    "from utils.baccarat import Game\n",
    "\n",
    "n = 1_000_000\n",
    "\n",
    "game_setup = Game(\n",
    "    starting_money=float(\"inf\"),\n",
    "    betting_amount=10,\n",
    "    betting_pattern=[\"Player\"],\n",
    "    max_simulations=n,\n",
    ")\n",
    "\n",
    "result = game_setup.simulate()\n",
    "df = pd.DataFrame([r.__dict__ for r in result])\n",
    "\n",
    "print(\"Simulation finished\")\n",
    "df.sample(5)"
   ]
  },
  {
   "cell_type": "code",
   "execution_count": 2,
   "id": "aebe0e49-2284-4080-ad8f-78f087de4698",
   "metadata": {},
   "outputs": [
    {
     "data": {
      "text/html": [
       "<div>\n",
       "<style scoped>\n",
       "    .dataframe tbody tr th:only-of-type {\n",
       "        vertical-align: middle;\n",
       "    }\n",
       "\n",
       "    .dataframe tbody tr th {\n",
       "        vertical-align: top;\n",
       "    }\n",
       "\n",
       "    .dataframe thead th {\n",
       "        text-align: right;\n",
       "    }\n",
       "</style>\n",
       "<table border=\"1\" class=\"dataframe\">\n",
       "  <thead>\n",
       "    <tr style=\"text-align: right;\">\n",
       "      <th></th>\n",
       "      <th>Outcome</th>\n",
       "      <th>Probability</th>\n",
       "    </tr>\n",
       "  </thead>\n",
       "  <tbody>\n",
       "    <tr>\n",
       "      <th>0</th>\n",
       "      <td>Banker</td>\n",
       "      <td>0.403594</td>\n",
       "    </tr>\n",
       "    <tr>\n",
       "      <th>1</th>\n",
       "      <td>Player</td>\n",
       "      <td>0.512728</td>\n",
       "    </tr>\n",
       "    <tr>\n",
       "      <th>2</th>\n",
       "      <td>Tie</td>\n",
       "      <td>0.083678</td>\n",
       "    </tr>\n",
       "  </tbody>\n",
       "</table>\n",
       "</div>"
      ],
      "text/plain": [
       "  Outcome  Probability\n",
       "0  Banker     0.403594\n",
       "1  Player     0.512728\n",
       "2     Tie     0.083678"
      ]
     },
     "metadata": {},
     "output_type": "display_data"
    }
   ],
   "source": [
    "banker_wins_df = df[df[\"winner\"] == \"Banker\"]\n",
    "player_wins_df = df[df[\"winner\"] == \"Player\"]\n",
    "tie_wins_df = df[df[\"winner\"] == \"Tie\"]\n",
    "\n",
    "p_b = len(banker_wins_df)/n\n",
    "p_p = len(player_wins_df)/n\n",
    "p_t = len(tie_wins_df)/n\n",
    "\n",
    "probabilities = {\n",
    "    \"Outcome\": [\"Banker\", \"Player\", \"Tie\"],\n",
    "    \"Probability\": [p_b, p_p, p_t],\n",
    "}\n",
    "prob_df = pd.DataFrame(probabilities)\n",
    "display(prob_df)"
   ]
  },
  {
   "cell_type": "markdown",
   "id": "fe7f7a3d-8282-46c3-8246-ea7798faafc5",
   "metadata": {},
   "source": [
    "The simulated probabilities for the outcomes in a game of baccarat reveal some interesting trends. Over 1,000,000 simulations, the probability of the Banker winning was approximately 40.36%, while the probability of the Player winning was higher at 51.27%. The probability of a Tie occurring was 8.37%. These probabilities are slightly different from the theoretical values typically associated with baccarat (Banker: ~45.86%, Player: ~44.62%, Tie: ~9.52%), potentially due to the specifics of the simulation setup or statistical variability."
   ]
  },
  {
   "cell_type": "markdown",
   "id": "44d598f3-5b40-42c6-830b-35d0698de345",
   "metadata": {},
   "source": [
    "## Confidence intervals\n",
    "$$\n",
    "SE = \\sqrt{\\frac{p(1-p)}{n}}\n",
    "$$"
   ]
  },
  {
   "cell_type": "code",
   "execution_count": 3,
   "id": "5718e2c5-d2cf-42aa-889f-962ff44c167a",
   "metadata": {},
   "outputs": [
    {
     "data": {
      "text/html": [
       "<div>\n",
       "<style scoped>\n",
       "    .dataframe tbody tr th:only-of-type {\n",
       "        vertical-align: middle;\n",
       "    }\n",
       "\n",
       "    .dataframe tbody tr th {\n",
       "        vertical-align: top;\n",
       "    }\n",
       "\n",
       "    .dataframe thead th {\n",
       "        text-align: right;\n",
       "    }\n",
       "</style>\n",
       "<table border=\"1\" class=\"dataframe\">\n",
       "  <thead>\n",
       "    <tr style=\"text-align: right;\">\n",
       "      <th></th>\n",
       "      <th>Outcome</th>\n",
       "      <th>Probability</th>\n",
       "      <th>Standard Error</th>\n",
       "      <th>Confidence Interval (95%)</th>\n",
       "    </tr>\n",
       "  </thead>\n",
       "  <tbody>\n",
       "    <tr>\n",
       "      <th>0</th>\n",
       "      <td>Banker</td>\n",
       "      <td>0.403594</td>\n",
       "      <td>0.000491</td>\n",
       "      <td>[0.40263, 0.40456]</td>\n",
       "    </tr>\n",
       "    <tr>\n",
       "      <th>1</th>\n",
       "      <td>Player</td>\n",
       "      <td>0.512728</td>\n",
       "      <td>0.000500</td>\n",
       "      <td>[0.51175, 0.51371]</td>\n",
       "    </tr>\n",
       "    <tr>\n",
       "      <th>2</th>\n",
       "      <td>Tie</td>\n",
       "      <td>0.083678</td>\n",
       "      <td>0.000277</td>\n",
       "      <td>[0.08314, 0.08422]</td>\n",
       "    </tr>\n",
       "  </tbody>\n",
       "</table>\n",
       "</div>"
      ],
      "text/plain": [
       "  Outcome  Probability  Standard Error Confidence Interval (95%)\n",
       "0  Banker     0.403594        0.000491        [0.40263, 0.40456]\n",
       "1  Player     0.512728        0.000500        [0.51175, 0.51371]\n",
       "2     Tie     0.083678        0.000277        [0.08314, 0.08422]"
      ]
     },
     "metadata": {},
     "output_type": "display_data"
    }
   ],
   "source": [
    "se_b = np.sqrt((p_b * (1 - p_b)) / n)\n",
    "se_p = np.sqrt((p_p * (1 - p_p)) / n)\n",
    "se_t = np.sqrt((p_t * (1 - p_t)) / n)\n",
    "\n",
    "prob_df[\"Standard Error\"] = [se_b, se_p, se_t]\n",
    "prob_df[\"Confidence Interval (95%)\"] = [\n",
    "    f\"[{p_b - 1.96 * se_b:.5f}, {p_b + 1.96 * se_b:.5f}]\",\n",
    "    f\"[{p_p - 1.96 * se_p:.5f}, {p_p + 1.96 * se_p:.5f}]\",\n",
    "    f\"[{p_t - 1.96 * se_t:.5f}, {p_t + 1.96 * se_t:.5f}]\",\n",
    "]\n",
    "\n",
    "display(prob_df)"
   ]
  },
  {
   "cell_type": "code",
   "execution_count": 4,
   "id": "cedb31d9-ed62-4be2-b68d-33ecb07ed070",
   "metadata": {},
   "outputs": [
    {
     "data": {
      "text/html": [
       "<div>\n",
       "<style scoped>\n",
       "    .dataframe tbody tr th:only-of-type {\n",
       "        vertical-align: middle;\n",
       "    }\n",
       "\n",
       "    .dataframe tbody tr th {\n",
       "        vertical-align: top;\n",
       "    }\n",
       "\n",
       "    .dataframe thead th {\n",
       "        text-align: right;\n",
       "    }\n",
       "</style>\n",
       "<table border=\"1\" class=\"dataframe\">\n",
       "  <thead>\n",
       "    <tr style=\"text-align: right;\">\n",
       "      <th></th>\n",
       "      <th>Outcome</th>\n",
       "      <th>Probability</th>\n",
       "      <th>Standard Error</th>\n",
       "      <th>Confidence Interval (95%)</th>\n",
       "      <th>Theoretical Probability</th>\n",
       "    </tr>\n",
       "  </thead>\n",
       "  <tbody>\n",
       "    <tr>\n",
       "      <th>0</th>\n",
       "      <td>Banker</td>\n",
       "      <td>0.403594</td>\n",
       "      <td>0.000491</td>\n",
       "      <td>[0.40263, 0.40456]</td>\n",
       "      <td>0.4586</td>\n",
       "    </tr>\n",
       "    <tr>\n",
       "      <th>1</th>\n",
       "      <td>Player</td>\n",
       "      <td>0.512728</td>\n",
       "      <td>0.000500</td>\n",
       "      <td>[0.51175, 0.51371]</td>\n",
       "      <td>0.4462</td>\n",
       "    </tr>\n",
       "    <tr>\n",
       "      <th>2</th>\n",
       "      <td>Tie</td>\n",
       "      <td>0.083678</td>\n",
       "      <td>0.000277</td>\n",
       "      <td>[0.08314, 0.08422]</td>\n",
       "      <td>0.0952</td>\n",
       "    </tr>\n",
       "  </tbody>\n",
       "</table>\n",
       "</div>"
      ],
      "text/plain": [
       "  Outcome  Probability  Standard Error Confidence Interval (95%)  \\\n",
       "0  Banker     0.403594        0.000491        [0.40263, 0.40456]   \n",
       "1  Player     0.512728        0.000500        [0.51175, 0.51371]   \n",
       "2     Tie     0.083678        0.000277        [0.08314, 0.08422]   \n",
       "\n",
       "   Theoretical Probability  \n",
       "0                   0.4586  \n",
       "1                   0.4462  \n",
       "2                   0.0952  "
      ]
     },
     "metadata": {},
     "output_type": "display_data"
    }
   ],
   "source": [
    "theoretical_probs = [0.4586, 0.4462, 0.0952]\n",
    "prob_df[\"Theoretical Probability\"] = theoretical_probs\n",
    "display(prob_df)"
   ]
  },
  {
   "cell_type": "markdown",
   "id": "f1d0bc59-1fa0-43e0-92f3-dcaffc82870a",
   "metadata": {},
   "source": [
    "The simulated probabilities for baccarat outcomes provide valuable insights into the game’s dynamics. Based on 1,000,000 simulations, the probability of the Banker winning was approximately 40.36%, with a 95% confidence interval of [40.26%, 40.46%] and a standard error of 0.000491. The probability of the Player winning was higher, at 51.27%, with a 95% confidence interval of [51.18%, 51.37%] and a standard error of 0.000500. The probability of a Tie outcome was 8.37%, with a 95% confidence interval of [8.31%, 8.42%] and a standard error of 0.000277.\n",
    "\n",
    "Comparing these results with the theoretical probabilities (Banker: ~45.86%, Player: ~44.62%, Tie: ~9.52%), we observe notable deviations, particularly for the Player and Banker outcomes. The simulated Player probability is significantly higher, while the Banker and Tie probabilities are lower than expected. This suggests that either the simulation may incorporate certain biases in game logic, or statistical variability could be at play. The narrow confidence intervals indicate that the simulation results are precise, but further exploration is necessary to identify the cause of these discrepancies and reconcile them with theoretical expectations."
   ]
  },
  {
   "cell_type": "markdown",
   "id": "002a5af0-fff3-4f2c-8378-bb980ca67610",
   "metadata": {},
   "source": [
    "## Result"
   ]
  },
  {
   "cell_type": "code",
   "execution_count": 5,
   "id": "54f8c395-e4e7-4418-9141-01011935a0f0",
   "metadata": {},
   "outputs": [
    {
     "data": {
      "image/png": "[encoded data removed]",
      "text/plain": [
       "<Figure size 640x480 with 1 Axes>"
      ]
     },
     "metadata": {},
     "output_type": "display_data"
    }
   ],
   "source": [
    "plt.bar(prob_df[\"Outcome\"], prob_df[\"Probability\"], alpha=0.7, label=\"Simulated\")\n",
    "plt.bar(prob_df[\"Outcome\"], prob_df[\"Theoretical Probability\"], alpha=0.5, label=\"Theoretical\")\n",
    "plt.ylabel(\"Probability\")\n",
    "plt.title(\"Baccarat Outcome Probabilities\")\n",
    "plt.legend()\n",
    "plt.show()"
   ]
  }
 ],
 "metadata": {
  "kernelspec": {
   "display_name": "baccarat-monte-carlo",
   "language": "python",
   "name": "baccarat-monte-carlo"
  },
  "language_info": {
   "codemirror_mode": {
    "name": "ipython",
    "version": 3
   },
   "file_extension": ".py",
   "mimetype": "text/x-python",
   "name": "python",
   "nbconvert_exporter": "python",
   "pygments_lexer": "ipython3",
   "version": "3.8.20"
  }
 },
 "nbformat": 4,
 "nbformat_minor": 5
}
